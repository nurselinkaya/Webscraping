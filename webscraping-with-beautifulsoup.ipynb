{
 "cells": [
  {
   "cell_type": "markdown",
   "id": "3ee0b730",
   "metadata": {
    "papermill": {
     "duration": 0.008081,
     "end_time": "2023-03-30T10:22:36.179131",
     "exception": false,
     "start_time": "2023-03-30T10:22:36.171050",
     "status": "completed"
    },
    "tags": []
   },
   "source": [
    "## Webscraping with BeautifulSoup\n",
    "\n",
    "### In this example,  we will:\n",
    "1) Extract the movie data from IMDb and Metacritic websites.\n",
    "\n",
    "2) Compare the ratings of each website for the common movies."
   ]
  },
  {
   "cell_type": "markdown",
   "id": "96b88e6d",
   "metadata": {
    "papermill": {
     "duration": 0.006549,
     "end_time": "2023-03-30T10:22:36.192812",
     "exception": false,
     "start_time": "2023-03-30T10:22:36.186263",
     "status": "completed"
    },
    "tags": []
   },
   "source": [
    "### Import necessary packages and extract the text from IMDB website:"
   ]
  },
  {
   "cell_type": "code",
   "execution_count": 1,
   "id": "8cf89765",
   "metadata": {
    "execution": {
     "iopub.execute_input": "2023-03-30T10:22:36.207589Z",
     "iopub.status.busy": "2023-03-30T10:22:36.207173Z",
     "iopub.status.idle": "2023-03-30T10:22:38.184454Z",
     "shell.execute_reply": "2023-03-30T10:22:38.183193Z"
    },
    "papermill": {
     "duration": 1.987963,
     "end_time": "2023-03-30T10:22:38.187191",
     "exception": false,
     "start_time": "2023-03-30T10:22:36.199228",
     "status": "completed"
    },
    "tags": []
   },
   "outputs": [
    {
     "name": "stdout",
     "output_type": "stream",
     "text": [
      "<!DOCTYPE html>\n",
      "<html xmlns:fb=\"http://www.facebook.com/2008/fbml\" xmlns:og=\"http://ogp.me/ns#\">\n",
      " <head>\n",
      "  <script type=\"text/javascript\">\n",
      "   var ue_t0=ue_t0||+new Date();\n",
      "  </script>\n",
      "  <script type=\"text/javascript\">\n",
      "   window.ue_ihb = (window.ue_ihb || window.ueinit || 0) + 1;\n",
      "if (window.ue_ihb === 1) {\n",
      "\n",
      "var ue_csm = window,\n",
      "    ue_hob = +new Date();\n",
      "(function(d){var e=d.ue=d.ue||{},f=Date.now||function(){return+new Date};e.d=function(b){return f()-(b?0:d.ue_t0)};e.stub=function(b,a){if(!b[a]){var c=[];b[a]=function(){c.push([c.slice.call(arguments),e.d(),d.ue_id])};b[a].replay=function(b){for(var a;a=c.shift();)b(a[0],a[1],a[2])};b[a].isStub=1}};e.exec=function(b,a){return function(){try{return b.apply(this,arguments)}catch(c){ueLogError(c,{attribution:a||\"undefined\",logLevel:\"WARN\"})}}}})(ue_csm);\n",
      "\n",
      "\n",
      "    var ue_err_chan = 'jserr';\n",
      "(function(d,e){function h(f,b){if(!(a.ec>a.mxe)&&f){a.ter.push(f);b=b||{};var c=f.logLevel||b.logLevel;c&&c!==k&&c!==m&&c!==n&&c!==p||a.ec++;c&&c!=k||a.ecf++;b.pageURL=\"\"+(e.location?e.location.href:\"\");b.logLevel=c;b.attribution=f.attribution||b.attribution;a.erl.push({ex:f,info:b})}}function l(a,b,c,e,g){d.ueLogError({m:a,f:b,l:c,c:\"\"+e,err:g,fromOnError:1,args:arguments},g?{attribution:g.attribution,logLevel:g.logLevel}:void 0);return!1}var k=\"FATAL\",m=\"ERROR\",n=\"WARN\",p=\"DOWNGRADED\",a={ec:0,ecf:0,\n",
      "pec:0,ts:0,erl:[],ter:[],buffer:[],mxe:50,startTimer:function(){a.ts++;setInterval(function(){d.ue&&a.pec<a.ec&&d.uex(\"at\");a.pec=a.ec},1E4)}};l.skipTrace=1;h.skipTrace=1;h.isStub=1;d.ueLogError=h;d.ue_err=a;e.onerror=l})(ue_csm,window);\n",
      "\n",
      "\n",
      "var ue_id = 'BQWZRBFAM81S7K6ZBPJP',\n",
      "    ue_url,\n",
      "    ue_navtiming = 1,\n",
      "    ue_mid = 'A1EVAM02EL8SFB',\n",
      "    ue_sid = '142-4733486-5366807',\n",
      "    ue_sn = 'www.imdb.com',\n",
      "    ue_furl = 'fls-na.amazon.com',\n",
      "    ue_surl = 'https://unagi-na.amazon.com/1/events/com.amazon.csm.nexusclient.prod',\n",
      "    ue_int = 0,\n",
      "    ue_fcsn = 1,\n"
     ]
    }
   ],
   "source": [
    "from urllib.request import urlopen\n",
    "from bs4 import BeautifulSoup as bs\n",
    "import pandas as pd\n",
    "url_imdb= \"https://assets-datascientest.s3.eu-west-1.amazonaws.com/IMDB_en.html\"\n",
    "page_imdb= urlopen(url_imdb)\n",
    "bs_imdb = bs(page_imdb, \"html.parser\")\n",
    "print(\"\\n\".join(bs_imdb.prettify().splitlines()[0:30]))"
   ]
  },
  {
   "cell_type": "markdown",
   "id": "4e397b94",
   "metadata": {
    "papermill": {
     "duration": 0.006145,
     "end_time": "2023-03-30T10:22:38.201147",
     "exception": false,
     "start_time": "2023-03-30T10:22:38.195002",
     "status": "completed"
    },
    "tags": []
   },
   "source": [
    "#### Find all the movies listed on the website:"
   ]
  },
  {
   "cell_type": "code",
   "execution_count": 2,
   "id": "64b0075f",
   "metadata": {
    "execution": {
     "iopub.execute_input": "2023-03-30T10:22:38.217548Z",
     "iopub.status.busy": "2023-03-30T10:22:38.215846Z",
     "iopub.status.idle": "2023-03-30T10:22:38.247194Z",
     "shell.execute_reply": "2023-03-30T10:22:38.245095Z"
    },
    "papermill": {
     "duration": 0.042252,
     "end_time": "2023-03-30T10:22:38.250296",
     "exception": false,
     "start_time": "2023-03-30T10:22:38.208044",
     "status": "completed"
    },
    "tags": []
   },
   "outputs": [
    {
     "name": "stdout",
     "output_type": "stream",
     "text": [
      "[<td class=\"titleColumn\">\n",
      "<a href=\"/title/tt11564570/?pf_rd_m=A2FGELUUNOQJNL&amp;pf_rd_p=ea4e08e1-c8a3-47b5-ac3a-75026647c16e&amp;pf_rd_r=BQWZRBFAM81S7K6ZBPJP&amp;pf_rd_s=center-1&amp;pf_rd_t=15506&amp;pf_rd_i=moviemeter&amp;ref_=chtmvm_tt_1\" title=\"Rian Johnson (dir.), Daniel Craig, Edward Norton\">Glass Onion: une histoire à couteaux tirés</a>\n",
      "<span class=\"secondaryInfo\">(2022)</span>\n",
      "<div class=\"velocity\">1\n",
      "<span class=\"secondaryInfo\">(\n",
      "<span class=\"global-sprite titlemeter up\"></span>\n",
      "1)</span>\n",
      "</div>\n",
      "</td>, <td class=\"titleColumn\">\n",
      "<a href=\"/title/tt1630029/?pf_rd_m=A2FGELUUNOQJNL&amp;pf_rd_p=ea4e08e1-c8a3-47b5-ac3a-75026647c16e&amp;pf_rd_r=BQWZRBFAM81S7K6ZBPJP&amp;pf_rd_s=center-1&amp;pf_rd_t=15506&amp;pf_rd_i=moviemeter&amp;ref_=chtmvm_tt_2\" title=\"James Cameron (dir.), Sam Worthington, Zoe Saldana\">Avatar: la voie de l'eau</a>\n",
      "<span class=\"secondaryInfo\">(2022)</span>\n",
      "<div class=\"velocity\">2\n",
      "<span class=\"secondaryInfo\">(\n",
      "<span class=\"global-sprite titlemeter down\"></span>\n",
      "1)</span>\n",
      "</div>\n",
      "</td>, <td class=\"titleColumn\">\n",
      "<a href=\"/title/tt8946378/?pf_rd_m=A2FGELUUNOQJNL&amp;pf_rd_p=ea4e08e1-c8a3-47b5-ac3a-75026647c16e&amp;pf_rd_r=BQWZRBFAM81S7K6ZBPJP&amp;pf_rd_s=center-1&amp;pf_rd_t=15506&amp;pf_rd_i=moviemeter&amp;ref_=chtmvm_tt_3\" title=\"Rian Johnson (dir.), Daniel Craig, Chris Evans\">À couteaux tirés</a>\n",
      "<span class=\"secondaryInfo\">(2019)</span>\n",
      "<div class=\"velocity\">3\n",
      "<span class=\"secondaryInfo\">(\n",
      "<span class=\"global-sprite titlemeter up\"></span>\n",
      "11)</span>\n",
      "</div>\n",
      "</td>, <td class=\"titleColumn\">\n",
      "<a href=\"/title/tt10640346/?pf_rd_m=A2FGELUUNOQJNL&amp;pf_rd_p=ea4e08e1-c8a3-47b5-ac3a-75026647c16e&amp;pf_rd_r=BQWZRBFAM81S7K6ZBPJP&amp;pf_rd_s=center-1&amp;pf_rd_t=15506&amp;pf_rd_i=moviemeter&amp;ref_=chtmvm_tt_4\" title=\"Damien Chazelle (dir.), Brad Pitt, Margot Robbie\">Babylon</a>\n",
      "<span class=\"secondaryInfo\">(2022)</span>\n",
      "<div class=\"velocity\">4\n",
      "(no change)\n",
      "</div>\n",
      "</td>, <td class=\"titleColumn\">\n",
      "<a href=\"/title/tt0499549/?pf_rd_m=A2FGELUUNOQJNL&amp;pf_rd_p=ea4e08e1-c8a3-47b5-ac3a-75026647c16e&amp;pf_rd_r=BQWZRBFAM81S7K6ZBPJP&amp;pf_rd_s=center-1&amp;pf_rd_t=15506&amp;pf_rd_i=moviemeter&amp;ref_=chtmvm_tt_5\" title=\"James Cameron (dir.), Sam Worthington, Zoe Saldana\">Avatar</a>\n",
      "<span class=\"secondaryInfo\">(2009)</span>\n",
      "<div class=\"velocity\">5\n",
      "<span class=\"secondaryInfo\">(\n",
      "<span class=\"global-sprite titlemeter down\"></span>\n",
      "2)</span>\n",
      "</div>\n",
      "</td>]\n"
     ]
    }
   ],
   "source": [
    "films_imdb = bs_imdb.findAll(\"td\", class_=\"titleColumn\")\n",
    "print(films_imdb[:5])"
   ]
  },
  {
   "cell_type": "markdown",
   "id": "a232e08e",
   "metadata": {
    "papermill": {
     "duration": 0.006509,
     "end_time": "2023-03-30T10:22:38.263558",
     "exception": false,
     "start_time": "2023-03-30T10:22:38.257049",
     "status": "completed"
    },
    "tags": []
   },
   "source": [
    "#### Get the first movie listed:"
   ]
  },
  {
   "cell_type": "code",
   "execution_count": 3,
   "id": "ac98d462",
   "metadata": {
    "execution": {
     "iopub.execute_input": "2023-03-30T10:22:38.279369Z",
     "iopub.status.busy": "2023-03-30T10:22:38.278318Z",
     "iopub.status.idle": "2023-03-30T10:22:38.285127Z",
     "shell.execute_reply": "2023-03-30T10:22:38.283601Z"
    },
    "papermill": {
     "duration": 0.017323,
     "end_time": "2023-03-30T10:22:38.287553",
     "exception": false,
     "start_time": "2023-03-30T10:22:38.270230",
     "status": "completed"
    },
    "tags": []
   },
   "outputs": [
    {
     "name": "stdout",
     "output_type": "stream",
     "text": [
      "Glass Onion: une histoire à couteaux tirés\n"
     ]
    }
   ],
   "source": [
    "film_first= films_imdb[0]\n",
    "print(film_first.find(\"a\").string.strip())"
   ]
  },
  {
   "cell_type": "markdown",
   "id": "c69f0fab",
   "metadata": {
    "papermill": {
     "duration": 0.006479,
     "end_time": "2023-03-30T10:22:38.300703",
     "exception": false,
     "start_time": "2023-03-30T10:22:38.294224",
     "status": "completed"
    },
    "tags": []
   },
   "source": [
    "#### Get the ranking of the first movie:"
   ]
  },
  {
   "cell_type": "code",
   "execution_count": 4,
   "id": "fbe1476e",
   "metadata": {
    "execution": {
     "iopub.execute_input": "2023-03-30T10:22:38.315979Z",
     "iopub.status.busy": "2023-03-30T10:22:38.315547Z",
     "iopub.status.idle": "2023-03-30T10:22:38.322245Z",
     "shell.execute_reply": "2023-03-30T10:22:38.320716Z"
    },
    "papermill": {
     "duration": 0.018111,
     "end_time": "2023-03-30T10:22:38.325476",
     "exception": false,
     "start_time": "2023-03-30T10:22:38.307365",
     "status": "completed"
    },
    "tags": []
   },
   "outputs": [
    {
     "name": "stdout",
     "output_type": "stream",
     "text": [
      "1\n",
      "\n"
     ]
    }
   ],
   "source": [
    "rank = film_first.find(\"div\", class_= \"velocity\").contents[0]\n",
    "print(rank)"
   ]
  },
  {
   "cell_type": "markdown",
   "id": "5deaff98",
   "metadata": {
    "papermill": {
     "duration": 0.00686,
     "end_time": "2023-03-30T10:22:38.339886",
     "exception": false,
     "start_time": "2023-03-30T10:22:38.333026",
     "status": "completed"
    },
    "tags": []
   },
   "source": [
    "#### Get the year of the first movie:"
   ]
  },
  {
   "cell_type": "code",
   "execution_count": 5,
   "id": "7b956138",
   "metadata": {
    "execution": {
     "iopub.execute_input": "2023-03-30T10:22:38.356207Z",
     "iopub.status.busy": "2023-03-30T10:22:38.355588Z",
     "iopub.status.idle": "2023-03-30T10:22:38.362102Z",
     "shell.execute_reply": "2023-03-30T10:22:38.360756Z"
    },
    "papermill": {
     "duration": 0.018526,
     "end_time": "2023-03-30T10:22:38.365470",
     "exception": false,
     "start_time": "2023-03-30T10:22:38.346944",
     "status": "completed"
    },
    "tags": []
   },
   "outputs": [
    {
     "name": "stdout",
     "output_type": "stream",
     "text": [
      "2022\n"
     ]
    }
   ],
   "source": [
    "year= film_first.find(\"span\", class_=\"secondaryInfo\").string.strip(\"()\")\n",
    "print(year)"
   ]
  },
  {
   "cell_type": "markdown",
   "id": "7aba3fd0",
   "metadata": {
    "papermill": {
     "duration": 0.006522,
     "end_time": "2023-03-30T10:22:38.380110",
     "exception": false,
     "start_time": "2023-03-30T10:22:38.373588",
     "status": "completed"
    },
    "tags": []
   },
   "source": [
    "#### Get the rating of the first movie, the total number of ratings listed and the first 5 ratings:"
   ]
  },
  {
   "cell_type": "code",
   "execution_count": 6,
   "id": "c5a530a1",
   "metadata": {
    "execution": {
     "iopub.execute_input": "2023-03-30T10:22:38.395709Z",
     "iopub.status.busy": "2023-03-30T10:22:38.395280Z",
     "iopub.status.idle": "2023-03-30T10:22:38.426252Z",
     "shell.execute_reply": "2023-03-30T10:22:38.424901Z"
    },
    "papermill": {
     "duration": 0.042822,
     "end_time": "2023-03-30T10:22:38.429815",
     "exception": false,
     "start_time": "2023-03-30T10:22:38.386993",
     "status": "completed"
    },
    "tags": []
   },
   "outputs": [
    {
     "name": "stdout",
     "output_type": "stream",
     "text": [
      "7,3\n",
      "100\n",
      "[<td class=\"ratingColumn imdbRating\">\n",
      "<strong title=\"7,3 based on 207 962 user ratings\">7,3</strong>\n",
      "</td>, <td class=\"ratingColumn imdbRating\">\n",
      "<strong title=\"7,9 based on 183 394 user ratings\">7,9</strong>\n",
      "</td>, <td class=\"ratingColumn imdbRating\">\n",
      "<strong title=\"7,9 based on 664 235 user ratings\">7,9</strong>\n",
      "</td>, <td class=\"ratingColumn imdbRating\">\n",
      "<strong title=\"7,4 based on 7 995 user ratings\">7,4</strong>\n",
      "</td>, <td class=\"ratingColumn imdbRating\">\n",
      "<strong title=\"7,9 based on 1 289 668 user ratings\">7,9</strong>\n",
      "</td>]\n"
     ]
    }
   ],
   "source": [
    "rating_ = bs_imdb.findAll(\"td\", class_= \"ratingColumn imdbRating\")\n",
    "rating_first= rating_[0].find(\"strong\").string.strip()\n",
    "print(rating_first)\n",
    "print(len(rating_))\n",
    "print(rating_[:5])"
   ]
  },
  {
   "cell_type": "markdown",
   "id": "bb8d6442",
   "metadata": {
    "papermill": {
     "duration": 0.006896,
     "end_time": "2023-03-30T10:22:38.444734",
     "exception": false,
     "start_time": "2023-03-30T10:22:38.437838",
     "status": "completed"
    },
    "tags": []
   },
   "source": [
    "#### Create a Dataframe of IMDb variables with title, year and rating:"
   ]
  },
  {
   "cell_type": "code",
   "execution_count": 7,
   "id": "65da7901",
   "metadata": {
    "execution": {
     "iopub.execute_input": "2023-03-30T10:22:38.461373Z",
     "iopub.status.busy": "2023-03-30T10:22:38.460975Z",
     "iopub.status.idle": "2023-03-30T10:22:38.507440Z",
     "shell.execute_reply": "2023-03-30T10:22:38.506150Z"
    },
    "papermill": {
     "duration": 0.058472,
     "end_time": "2023-03-30T10:22:38.510301",
     "exception": false,
     "start_time": "2023-03-30T10:22:38.451829",
     "status": "completed"
    },
    "tags": []
   },
   "outputs": [
    {
     "data": {
      "text/html": [
       "<div>\n",
       "<style scoped>\n",
       "    .dataframe tbody tr th:only-of-type {\n",
       "        vertical-align: middle;\n",
       "    }\n",
       "\n",
       "    .dataframe tbody tr th {\n",
       "        vertical-align: top;\n",
       "    }\n",
       "\n",
       "    .dataframe thead th {\n",
       "        text-align: right;\n",
       "    }\n",
       "</style>\n",
       "<table border=\"1\" class=\"dataframe\">\n",
       "  <thead>\n",
       "    <tr style=\"text-align: right;\">\n",
       "      <th></th>\n",
       "      <th>Title</th>\n",
       "      <th>Year</th>\n",
       "      <th>Rating IMDB</th>\n",
       "    </tr>\n",
       "  </thead>\n",
       "  <tbody>\n",
       "    <tr>\n",
       "      <th>0</th>\n",
       "      <td>Glass Onion: une histoire à couteaux tirés</td>\n",
       "      <td>2022</td>\n",
       "      <td>7,3</td>\n",
       "    </tr>\n",
       "    <tr>\n",
       "      <th>1</th>\n",
       "      <td>Avatar: la voie de l'eau</td>\n",
       "      <td>2022</td>\n",
       "      <td>7,9</td>\n",
       "    </tr>\n",
       "    <tr>\n",
       "      <th>2</th>\n",
       "      <td>À couteaux tirés</td>\n",
       "      <td>2019</td>\n",
       "      <td>7,9</td>\n",
       "    </tr>\n",
       "    <tr>\n",
       "      <th>3</th>\n",
       "      <td>Babylon</td>\n",
       "      <td>2022</td>\n",
       "      <td>7,4</td>\n",
       "    </tr>\n",
       "    <tr>\n",
       "      <th>4</th>\n",
       "      <td>Avatar</td>\n",
       "      <td>2009</td>\n",
       "      <td>7,9</td>\n",
       "    </tr>\n",
       "  </tbody>\n",
       "</table>\n",
       "</div>"
      ],
      "text/plain": [
       "                                        Title  Year Rating IMDB\n",
       "0  Glass Onion: une histoire à couteaux tirés  2022         7,3\n",
       "1                    Avatar: la voie de l'eau  2022         7,9\n",
       "2                            À couteaux tirés  2019         7,9\n",
       "3                                     Babylon  2022         7,4\n",
       "4                                      Avatar  2009         7,9"
      ]
     },
     "execution_count": 7,
     "metadata": {},
     "output_type": "execute_result"
    }
   ],
   "source": [
    "import re\n",
    "\n",
    "ratings = []\n",
    "for rating in rating_:\n",
    "    rating_string = str(rating)\n",
    "    rating_value = re.search(r'[0-9]\\,[0-9]', rating_string)\n",
    "    if rating_value:\n",
    "        rating_value = rating_value.group()\n",
    "    else:\n",
    "        rating_value = None\n",
    "    ratings.append(rating_value)\n",
    "import pandas as pd\n",
    "titles= []\n",
    "years= []\n",
    "\n",
    "for film in films_imdb:\n",
    "    titles.append(film.find(\"a\").string.strip())\n",
    "    years.append(film.find(\"span\", class_=\"secondaryInfo\").string.strip(\"()\"))\n",
    "\n",
    "df_imdb = pd.DataFrame({'Title': titles, 'Year': years, 'Rating IMDB': ratings})\n",
    "df_imdb.head()"
   ]
  },
  {
   "cell_type": "markdown",
   "id": "4469ea0e",
   "metadata": {
    "papermill": {
     "duration": 0.007056,
     "end_time": "2023-03-30T10:22:38.524569",
     "exception": false,
     "start_time": "2023-03-30T10:22:38.517513",
     "status": "completed"
    },
    "tags": []
   },
   "source": [
    "### Extract the text from Metacritic website:"
   ]
  },
  {
   "cell_type": "code",
   "execution_count": 8,
   "id": "94062784",
   "metadata": {
    "execution": {
     "iopub.execute_input": "2023-03-30T10:22:38.540474Z",
     "iopub.status.busy": "2023-03-30T10:22:38.540076Z",
     "iopub.status.idle": "2023-03-30T10:22:38.976934Z",
     "shell.execute_reply": "2023-03-30T10:22:38.975510Z"
    },
    "papermill": {
     "duration": 0.448293,
     "end_time": "2023-03-30T10:22:38.979820",
     "exception": false,
     "start_time": "2023-03-30T10:22:38.531527",
     "status": "completed"
    },
    "tags": []
   },
   "outputs": [
    {
     "data": {
      "text/plain": [
       "['<!DOCTYPE html>',\n",
       " '<html xmlns:fb=\"http://ogp.me/ns/fb#\" xmlns:og=\"http://opengraphprotocol.org/schema/\">',\n",
       " ' <head>',\n",
       " '  <title>',\n",
       " '   Best Movies for 2023 - Metacritic',\n",
       " '  </title>',\n",
       " '  <meta content=\"text/html; charset=utf-8\" http-equiv=\"content-type\"/>',\n",
       " '  <meta content=\"See how well critics are rating the Best Movies for 2023\" name=\"description\"/>',\n",
       " '  <meta content=\"Metacritic\" name=\"application-name\"/>',\n",
       " '  <meta content=\"#000000\" name=\"msapplication-TileColor\"/>',\n",
       " '  <meta content=\"/images/win8tile/76bf1426-2886-4b87-ae1c-06424b6bb8a2.png\" name=\"msapplication-TileImage\"/>',\n",
       " '  <meta content=\"618k3mbeki8tar7u6wvrum5lxs5cka\" name=\"facebook-domain-verification\">',\n",
       " '   <meta content=\"Best Movies for 2023\" property=\"og:title\"/>',\n",
       " '   <meta content=\"website\" property=\"og:type\"/>',\n",
       " '   <meta content=\"https://www.metacritic.com/browse/movies/score/metascore/year/filtered\" property=\"og:url\"/>',\n",
       " '   <meta content=\"https://static.metacritic.com/images/icons/mc_fb_og.png\" property=\"og:image\"/>',\n",
       " '   <meta content=\"Metacritic\" property=\"og:site_name\"/>',\n",
       " '   <meta content=\"123113677890173\" property=\"fb:app_id\"/>',\n",
       " '   <meta content=\"@metacritic\" property=\"twitter:site\"/>',\n",
       " '   <meta content=\"@metacritic\" property=\"twitter:creator\"/>',\n",
       " '   <meta content=\"https://static.metacritic.com/images/icons/mc_fb_og.png\" name=\"twitter:card\"/>',\n",
       " '   <meta content=\"See how well critics are rating the Best Movies for 2023\" property=\"og:description\"/>',\n",
       " '   <link href=\"https://www.metacritic.com/browse/movies/score/metascore/year/filtered\" rel=\"canonical\"/>',\n",
       " '   <link href=\"/browse/movies/score/metascore/year/filtered?page=1\" rel=\"next\"/>',\n",
       " '   <link href=\"//cdn.cookielaw.org\" pr=\"1\" rel=\"dns-prefetch\"/>',\n",
       " '   <link href=\"//geolocation.onetrust.com\" pr=\"1\" rel=\"dns-prefetch\"/>',\n",
       " '   <link as=\"fetch\" crossorigin=\"anonymous\" data-no-header=\"\" href=\"//cdn.cookielaw.org/consent/50e16f1d-a929-4cc0-80a7-3c5c303eea6a/50e16f1d-a929-4cc0-80a7-3c5c303eea6a.json\" pr=\"1\" rel=\"preload\" type=\"application/x-javascript\"/>',\n",
       " '   <link as=\"script\" data-no-header=\"\" href=\"https://geolocation.onetrust.com/cookieconsentpub/v1/geo/location\" rel=\"preload\" type=\"text/javascript\"/>',\n",
       " '   <script type=\"application/javascript\">',\n",
       " '    OptanonWrapperQueue = {']"
      ]
     },
     "execution_count": 8,
     "metadata": {},
     "output_type": "execute_result"
    }
   ],
   "source": [
    "import requests\n",
    "from bs4 import BeautifulSoup as bs\n",
    "url_meta = \"https://www.metacritic.com/browse/movies/score/metascore/year/filtered\"\n",
    "headers = {\"User-Agent\": \"Mozilla/5.0 (Windows NT 6.1; Win64; x64; rv:47.0) Gecko/20100101 Firefox/47.0\"}\n",
    "res = requests.get(url_meta, headers=headers).text\n",
    "soup_meta= bs (res, \"html.parser\")\n",
    "soup_meta.prettify().splitlines()[0:30]"
   ]
  },
  {
   "cell_type": "markdown",
   "id": "7eeb64bc",
   "metadata": {
    "papermill": {
     "duration": 0.007189,
     "end_time": "2023-03-30T10:22:38.994463",
     "exception": false,
     "start_time": "2023-03-30T10:22:38.987274",
     "status": "completed"
    },
    "tags": []
   },
   "source": [
    "#### Get all the movies from Metacritic website:"
   ]
  },
  {
   "cell_type": "code",
   "execution_count": 9,
   "id": "1c88124b",
   "metadata": {
    "execution": {
     "iopub.execute_input": "2023-03-30T10:22:39.012453Z",
     "iopub.status.busy": "2023-03-30T10:22:39.012031Z",
     "iopub.status.idle": "2023-03-30T10:22:39.037510Z",
     "shell.execute_reply": "2023-03-30T10:22:39.035784Z"
    },
    "papermill": {
     "duration": 0.038872,
     "end_time": "2023-03-30T10:22:39.040760",
     "exception": false,
     "start_time": "2023-03-30T10:22:39.001888",
     "status": "completed"
    },
    "tags": []
   },
   "outputs": [
    {
     "name": "stdout",
     "output_type": "stream",
     "text": [
      "100\n"
     ]
    }
   ],
   "source": [
    "films_meta = soup_meta.findAll(\"td\", class_= \"clamp-summary-wrap\")\n",
    "print(len(films_meta))"
   ]
  },
  {
   "cell_type": "markdown",
   "id": "fbd9913e",
   "metadata": {
    "papermill": {
     "duration": 0.007338,
     "end_time": "2023-03-30T10:22:39.055709",
     "exception": false,
     "start_time": "2023-03-30T10:22:39.048371",
     "status": "completed"
    },
    "tags": []
   },
   "source": [
    "#### Get the title of the first movie listed:"
   ]
  },
  {
   "cell_type": "code",
   "execution_count": 10,
   "id": "f3fd960a",
   "metadata": {
    "execution": {
     "iopub.execute_input": "2023-03-30T10:22:39.072789Z",
     "iopub.status.busy": "2023-03-30T10:22:39.072325Z",
     "iopub.status.idle": "2023-03-30T10:22:39.079467Z",
     "shell.execute_reply": "2023-03-30T10:22:39.078098Z"
    },
    "papermill": {
     "duration": 0.01902,
     "end_time": "2023-03-30T10:22:39.082280",
     "exception": false,
     "start_time": "2023-03-30T10:22:39.063260",
     "status": "completed"
    },
    "tags": []
   },
   "outputs": [
    {
     "name": "stdout",
     "output_type": "stream",
     "text": [
      "Saint Omer\n"
     ]
    }
   ],
   "source": [
    "title_meta = films_meta[0].find(\"h3\").string.strip()\n",
    "print(title_meta)"
   ]
  },
  {
   "cell_type": "markdown",
   "id": "223bbb0e",
   "metadata": {
    "papermill": {
     "duration": 0.007113,
     "end_time": "2023-03-30T10:22:39.096868",
     "exception": false,
     "start_time": "2023-03-30T10:22:39.089755",
     "status": "completed"
    },
    "tags": []
   },
   "source": [
    "#### Get the rating of the first movie listed:"
   ]
  },
  {
   "cell_type": "code",
   "execution_count": 11,
   "id": "514a491c",
   "metadata": {
    "execution": {
     "iopub.execute_input": "2023-03-30T10:22:39.113858Z",
     "iopub.status.busy": "2023-03-30T10:22:39.113431Z",
     "iopub.status.idle": "2023-03-30T10:22:39.120034Z",
     "shell.execute_reply": "2023-03-30T10:22:39.118577Z"
    },
    "papermill": {
     "duration": 0.018506,
     "end_time": "2023-03-30T10:22:39.122800",
     "exception": false,
     "start_time": "2023-03-30T10:22:39.104294",
     "status": "completed"
    },
    "tags": []
   },
   "outputs": [
    {
     "name": "stdout",
     "output_type": "stream",
     "text": [
      "91\n"
     ]
    }
   ],
   "source": [
    "rating_meta = films_meta[0].find(\"div\", class_= \"metascore_w\").string.strip()\n",
    "print(rating_meta)"
   ]
  },
  {
   "cell_type": "markdown",
   "id": "d6e98594",
   "metadata": {
    "papermill": {
     "duration": 0.007234,
     "end_time": "2023-03-30T10:22:39.137535",
     "exception": false,
     "start_time": "2023-03-30T10:22:39.130301",
     "status": "completed"
    },
    "tags": []
   },
   "source": [
    "#### Get the complete list of all movie titles and ratings and create a dataframe:"
   ]
  },
  {
   "cell_type": "code",
   "execution_count": 12,
   "id": "943a9e47",
   "metadata": {
    "execution": {
     "iopub.execute_input": "2023-03-30T10:22:39.155348Z",
     "iopub.status.busy": "2023-03-30T10:22:39.154955Z",
     "iopub.status.idle": "2023-03-30T10:22:39.177619Z",
     "shell.execute_reply": "2023-03-30T10:22:39.176310Z"
    },
    "papermill": {
     "duration": 0.034495,
     "end_time": "2023-03-30T10:22:39.180099",
     "exception": false,
     "start_time": "2023-03-30T10:22:39.145604",
     "status": "completed"
    },
    "tags": []
   },
   "outputs": [
    {
     "data": {
      "text/html": [
       "<div>\n",
       "<style scoped>\n",
       "    .dataframe tbody tr th:only-of-type {\n",
       "        vertical-align: middle;\n",
       "    }\n",
       "\n",
       "    .dataframe tbody tr th {\n",
       "        vertical-align: top;\n",
       "    }\n",
       "\n",
       "    .dataframe thead th {\n",
       "        text-align: right;\n",
       "    }\n",
       "</style>\n",
       "<table border=\"1\" class=\"dataframe\">\n",
       "  <thead>\n",
       "    <tr style=\"text-align: right;\">\n",
       "      <th></th>\n",
       "      <th>Title</th>\n",
       "      <th>Rating Meta</th>\n",
       "    </tr>\n",
       "  </thead>\n",
       "  <tbody>\n",
       "    <tr>\n",
       "      <th>0</th>\n",
       "      <td>Saint Omer</td>\n",
       "      <td>91</td>\n",
       "    </tr>\n",
       "    <tr>\n",
       "      <th>1</th>\n",
       "      <td>The Blue Caftan</td>\n",
       "      <td>86</td>\n",
       "    </tr>\n",
       "    <tr>\n",
       "      <th>2</th>\n",
       "      <td>Alcarràs</td>\n",
       "      <td>85</td>\n",
       "    </tr>\n",
       "    <tr>\n",
       "      <th>3</th>\n",
       "      <td>Shin Ultraman</td>\n",
       "      <td>85</td>\n",
       "    </tr>\n",
       "    <tr>\n",
       "      <th>4</th>\n",
       "      <td>Full Time</td>\n",
       "      <td>83</td>\n",
       "    </tr>\n",
       "  </tbody>\n",
       "</table>\n",
       "</div>"
      ],
      "text/plain": [
       "             Title Rating Meta\n",
       "0       Saint Omer          91\n",
       "1  The Blue Caftan          86\n",
       "2         Alcarràs          85\n",
       "3    Shin Ultraman          85\n",
       "4        Full Time          83"
      ]
     },
     "execution_count": 12,
     "metadata": {},
     "output_type": "execute_result"
    }
   ],
   "source": [
    "ratings_= []\n",
    "titles_= []\n",
    "for film in films_meta:\n",
    "    title = film.find('h3').get_text(strip=True)\n",
    "    rating = film.find('div', class_= \"metascore_w\").string.strip()\n",
    "    titles_.append(title)\n",
    "    ratings_.append(rating)\n",
    "df_meta = pd.DataFrame({'Title': titles_, 'Rating Meta': ratings_})\n",
    "df_meta.head()"
   ]
  },
  {
   "cell_type": "markdown",
   "id": "c4df2e9a",
   "metadata": {
    "papermill": {
     "duration": 0.007344,
     "end_time": "2023-03-30T10:22:39.195184",
     "exception": false,
     "start_time": "2023-03-30T10:22:39.187840",
     "status": "completed"
    },
    "tags": []
   },
   "source": [
    "#### Convert all titles to uppercase:"
   ]
  },
  {
   "cell_type": "code",
   "execution_count": 13,
   "id": "a56c53b6",
   "metadata": {
    "execution": {
     "iopub.execute_input": "2023-03-30T10:22:39.213367Z",
     "iopub.status.busy": "2023-03-30T10:22:39.212943Z",
     "iopub.status.idle": "2023-03-30T10:22:39.221289Z",
     "shell.execute_reply": "2023-03-30T10:22:39.220093Z"
    },
    "papermill": {
     "duration": 0.021037,
     "end_time": "2023-03-30T10:22:39.223984",
     "exception": false,
     "start_time": "2023-03-30T10:22:39.202947",
     "status": "completed"
    },
    "tags": []
   },
   "outputs": [],
   "source": [
    "df_imdb[\"Title\"]= df_imdb[\"Title\"].str.upper()\n",
    "df_meta[\"Title\"]= df_meta[\"Title\"].str.upper()"
   ]
  },
  {
   "cell_type": "markdown",
   "id": "d89a41ff",
   "metadata": {
    "papermill": {
     "duration": 0.00743,
     "end_time": "2023-03-30T10:22:39.239390",
     "exception": false,
     "start_time": "2023-03-30T10:22:39.231960",
     "status": "completed"
    },
    "tags": []
   },
   "source": [
    "#### Merge two dataframes imdb and meta:"
   ]
  },
  {
   "cell_type": "code",
   "execution_count": 14,
   "id": "8b30f831",
   "metadata": {
    "execution": {
     "iopub.execute_input": "2023-03-30T10:22:39.257657Z",
     "iopub.status.busy": "2023-03-30T10:22:39.257222Z",
     "iopub.status.idle": "2023-03-30T10:22:39.283403Z",
     "shell.execute_reply": "2023-03-30T10:22:39.281954Z"
    },
    "papermill": {
     "duration": 0.038212,
     "end_time": "2023-03-30T10:22:39.286013",
     "exception": false,
     "start_time": "2023-03-30T10:22:39.247801",
     "status": "completed"
    },
    "tags": []
   },
   "outputs": [
    {
     "data": {
      "text/html": [
       "<div>\n",
       "<style scoped>\n",
       "    .dataframe tbody tr th:only-of-type {\n",
       "        vertical-align: middle;\n",
       "    }\n",
       "\n",
       "    .dataframe tbody tr th {\n",
       "        vertical-align: top;\n",
       "    }\n",
       "\n",
       "    .dataframe thead th {\n",
       "        text-align: right;\n",
       "    }\n",
       "</style>\n",
       "<table border=\"1\" class=\"dataframe\">\n",
       "  <thead>\n",
       "    <tr style=\"text-align: right;\">\n",
       "      <th></th>\n",
       "      <th>Title</th>\n",
       "      <th>Year</th>\n",
       "      <th>Rating IMDB</th>\n",
       "      <th>Rating Meta</th>\n",
       "    </tr>\n",
       "  </thead>\n",
       "  <tbody>\n",
       "    <tr>\n",
       "      <th>0</th>\n",
       "      <td>KNOCK AT THE CABIN</td>\n",
       "      <td>2023</td>\n",
       "      <td>None</td>\n",
       "      <td>63</td>\n",
       "    </tr>\n",
       "    <tr>\n",
       "      <th>1</th>\n",
       "      <td>M3GAN</td>\n",
       "      <td>2022</td>\n",
       "      <td>6,1</td>\n",
       "      <td>72</td>\n",
       "    </tr>\n",
       "  </tbody>\n",
       "</table>\n",
       "</div>"
      ],
      "text/plain": [
       "                Title  Year Rating IMDB Rating Meta\n",
       "0  KNOCK AT THE CABIN  2023        None          63\n",
       "1               M3GAN  2022         6,1          72"
      ]
     },
     "execution_count": 14,
     "metadata": {},
     "output_type": "execute_result"
    }
   ],
   "source": [
    "df= pd.merge(df_imdb, df_meta, on=\"Title\")\n",
    "df.head()"
   ]
  },
  {
   "cell_type": "markdown",
   "id": "25570a1d",
   "metadata": {
    "papermill": {
     "duration": 0.007526,
     "end_time": "2023-03-30T10:22:39.301449",
     "exception": false,
     "start_time": "2023-03-30T10:22:39.293923",
     "status": "completed"
    },
    "tags": []
   },
   "source": [
    "##### There are two movies in common only and IMDB doesn't have rating for the first one. IMDB lists the rating over 10 and Meta rates over 100. So, if we look at imdb over 100, M3GAN would be 61/100. Therefore, we can say that Meta has the best rating with 72/100."
   ]
  }
 ],
 "metadata": {
  "kernelspec": {
   "display_name": "Python 3",
   "language": "python",
   "name": "python3"
  },
  "language_info": {
   "codemirror_mode": {
    "name": "ipython",
    "version": 3
   },
   "file_extension": ".py",
   "mimetype": "text/x-python",
   "name": "python",
   "nbconvert_exporter": "python",
   "pygments_lexer": "ipython3",
   "version": "3.7.12"
  },
  "papermill": {
   "default_parameters": {},
   "duration": 14.587257,
   "end_time": "2023-03-30T10:22:40.032168",
   "environment_variables": {},
   "exception": null,
   "input_path": "__notebook__.ipynb",
   "output_path": "__notebook__.ipynb",
   "parameters": {},
   "start_time": "2023-03-30T10:22:25.444911",
   "version": "2.4.0"
  }
 },
 "nbformat": 4,
 "nbformat_minor": 5
}
